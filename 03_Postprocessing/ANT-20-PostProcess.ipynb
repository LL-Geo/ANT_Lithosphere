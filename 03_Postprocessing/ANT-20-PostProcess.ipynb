{
 "cells": [
  {
   "cell_type": "code",
   "execution_count": 1,
   "id": "bf66a1d7",
   "metadata": {},
   "outputs": [
    {
     "name": "stderr",
     "output_type": "stream",
     "text": [
      "C:\\Users\\00103168\\Anaconda3\\lib\\site-packages\\numpy\\_distributor_init.py:30: UserWarning: loaded more than 1 DLL from .libs:\n",
      "C:\\Users\\00103168\\Anaconda3\\lib\\site-packages\\numpy\\.libs\\libopenblas.EL2C6PLE4ZYW3ECEVIV3OXXGRN2NRFM2.gfortran-win_amd64.dll\n",
      "C:\\Users\\00103168\\Anaconda3\\lib\\site-packages\\numpy\\.libs\\libopenblas.FB5AE2TYXYH2IJRDKGDGQ3XBKLKTF43H.gfortran-win_amd64.dll\n",
      "  warnings.warn(\"loaded more than 1 DLL from .libs:\"\n"
     ]
    }
   ],
   "source": [
    "import numpy as np\n",
    "from math import erf\n",
    "from scipy import optimize\n",
    "from scipy import special"
   ]
  },
  {
   "cell_type": "code",
   "execution_count": 2,
   "id": "12c35522",
   "metadata": {},
   "outputs": [],
   "source": [
    "# Input parameters\n",
    "# Gas constant\n",
    "R=8.3145\n",
    "# Reference pressure\n",
    "Pr=1.5e9\n",
    "# Reference temperature\n",
    "TKr=1473.\n",
    "T0=273.\n",
    "# Grain size and reference grain size\n",
    "d=1.e-3\n",
    "dr=1.e-3\n",
    "# Reference density\n",
    "rhor=3176.15\n",
    "# Thermal expansivity\n",
    "alphaT=3.59e-5\n",
    "# Bulk modulus\n",
    "bmod=115.2\n",
    "# Raw frequency\n",
    "freq=0.01\n",
    "\n",
    "# Brent temperature minimization bounds\n",
    "AX=0.\n",
    "CX=2000.\n",
    "tol=1e-3\n",
    "\n",
    "# Other parameters (density, compressibility etc.):\n",
    "rho0=3300.\n",
    "a0=2.832e-5\n",
    "a1=0.758e-8\n",
    "K0=130.e9\n",
    "KT=4.8\n",
    "grun=6.\n",
    "p0=3330.\n",
    "AY=1.0\n",
    "CY=1.6\n",
    "\n",
    "# Set key parameters\n",
    "Ab=0.664\n",
    "alpha=0.38\n",
    "tauP=6.e-5\n",
    "Teta=0.94\n",
    "beta=0.\n",
    "delphi=0.\n",
    "gamma=5.\n",
    "lambdaphi=0.\n",
    "\n",
    "# Set dV0 vs. P parameterisation parameters\n",
    "y_a = -7.334963115431564676e-23\n",
    "y_b = 7.510867653681621105e-12\n",
    "y_c = 1.000184023114681908e+00\n",
    "\n",
    "# Set solidus temperature at 50 km depth\n",
    "solidus_50km = 1380\n",
    "def funcVs(T,Vs_obs,m,dep,Mg):\n",
    "\n",
    "  # Difference between observed and calculated temperature\n",
    "  funcVs=np.abs(Vs_obs-Vs_calc(m,T,dep,Mg))\n",
    "  return funcVs\n",
    "\n",
    "def funcV0(x,Pin,K0,KT):\n",
    "\n",
    "  # Difference between observed and calculated pressure for given value of P\n",
    "  funcV0=np.abs(((K0*(3./2.)*(x**(7./3.)-x**(5./3.))*(1.+(((3./4.)*(KT-4.))*(x**(2./3.)-1.))))*1e-9)-(Pin*1e-9))\n",
    "  return funcV0\n"
   ]
  },
  {
   "cell_type": "code",
   "execution_count": 3,
   "id": "e0af7f8b",
   "metadata": {},
   "outputs": [],
   "source": [
    "#ALL 1333\n",
    "pos=np.array([ 7.51212501e+01, -1.28055870e-02,  1.96132180e+00,  2.53289695e+01,\n",
    "        8.59644885e+05,  2.99627780e-06,  1.14668689e+00, -5.14921992e+00,\n",
    "       -1.64919976e+03])"
   ]
  },
  {
   "cell_type": "code",
   "execution_count": 4,
   "id": "2749fc89",
   "metadata": {},
   "outputs": [],
   "source": [
    "# Inport data\n",
    "tomo_NA_stack = np.loadtxt('ANT20_grid_PriorInversion.txt')"
   ]
  },
  {
   "cell_type": "code",
   "execution_count": 5,
   "id": "ec5ad3e2",
   "metadata": {},
   "outputs": [],
   "source": [
    "def Vs_calc3(m,T,dep,Mg):\n",
    "\n",
    "  mu0 = m[0]\n",
    "  dmudT = m[1]\n",
    "  dmudP = m[2]\n",
    "  eta0 = 10**m[3]\n",
    "  E = m[4]\n",
    "  Va = m[5]\n",
    "  dTdz = m[6]\n",
    "  dmudMg = m[7]\n",
    "  dpdMg = m[8]\n",
    "  sol50 = 1380\n",
    "\n",
    "  Pg=(dep/30.)\n",
    "  P=Pg*1.e9\n",
    "  TK=T+273.\n",
    "\n",
    "  Tsol=sol50+(dTdz*(dep-50.))\n",
    "  Tn=TK/(Tsol+273.)\n",
    "\n",
    "  Aeta=(1./gamma)*np.exp(-delphi)*np.ones(len(Tn))\n",
    "  Aeta[Tn < Teta] = 1\n",
    "  Aeta[(Tn < Teta) & (Tn <1)] = np.exp((-1.*((Tn[(Tn < Teta) & (Tn <1)]-Teta)/(Tn[(Tn < Teta) & (Tn <1)]-(Tn[(Tn < Teta) & (Tn <1)]*Teta))))*np.log(gamma))\n",
    "\n",
    "\n",
    "    \n",
    "  # Work out viscosity given A\n",
    "  eta=((eta0*np.exp((E/R)*(1./TK-1./TKr))*np.exp((Va/R)*(P/TK-Pr/TKr)))*Aeta)\n",
    "\n",
    "  # Unrelaxed compliance\n",
    "  Ju=1./(1.e9*(mu0+(dmudP*Pg)+(dmudT*T)+(dmudMg*(100-Mg)/100)))\n",
    "\n",
    "\n",
    "  # Determine input parameters for complex compliance terms\n",
    "  tauM=eta*Ju\n",
    "  tau=(3.*dep)/4.2\n",
    "  tauS=tau/(2*np.pi*tauM)\n",
    "\n",
    "  Ap=(0.03+beta)*np.ones(len(Tn))\n",
    "\n",
    "  Ap [Tn < 0.91]=0.01\n",
    "  Ap [(Tn>=0.91)&(Tn<0.96)]=0.01+(0.4*(Tn[(Tn>=0.91)&(Tn<0.96)]-0.91))\n",
    "  Ap [(Tn>=0.96)&(Tn<1)]=0.03\n",
    "\n",
    "  sigmap=7*np.ones(len(Tn))\n",
    "\n",
    "  sigmap [Tn < 0.92]=4\n",
    "  sigmap [(Tn>=0.92)&(Tn<1)]=4.+(37.5*(Tn[(Tn>=0.92)&(Tn<1)]-0.92))\n",
    "\n",
    "  # Determine complex compliance terms\n",
    "  J1=Ju*(1.+((Ab*(tauS**alpha))/alpha)+((np.sqrt(2.*np.pi)/2.)*Ap*sigmap*(1.-special.erf((np.log(tauP/tauS))/(np.sqrt(2.)*sigmap)))))\n",
    "\n",
    "  # include pressure and temperature-dependent alpha\n",
    "  dV0=optimize.brent(funcV0,brack=(AY,CY),args=(P,K0,KT,),tol=tol)\n",
    "  alphaP0=dV0*np.exp((grun+1.)*((dV0**(-1.))-1.))\n",
    "  rhoP0=(p0+dpdMg*(Mg-89.27)/100)*dV0\n",
    "  intalphaT=(a0*(TK-273.))+((a1/2.)*((TK**2.)-(273.**2.)))\n",
    "  rho=(rhoP0)*(1.-(alphaP0*intalphaT))\n",
    "\n",
    "  # Calculate Vs\n",
    "  Vs=1./(np.sqrt(rho*J1)*1000.)  \n",
    "  TableVRho=np.empty([nT, 4])\n",
    "  TableVRho[:, 0] = Vs\n",
    "  TableVRho[:, 1] = rho\n",
    "  TableVRho[:, 2] = Mg\n",
    "  TableVRho[:, 3] = eta\n",
    "  return TableVRho"
   ]
  },
  {
   "cell_type": "code",
   "execution_count": 14,
   "id": "387e7219",
   "metadata": {},
   "outputs": [],
   "source": [
    "Tmin = 300-273.\n",
    "Tmax = 3000-273.\n",
    "dT = 1.      # temperature increment\n",
    "nT = int((Tmax - Tmin)/dT + 1)\n",
    "depth=tomo_NA_stack[:,2]\n",
    "Depths=np.unique(depth)\n",
    "nDepths = Depths.shape[0]"
   ]
  },
  {
   "cell_type": "code",
   "execution_count": 15,
   "id": "b20a1a5d",
   "metadata": {},
   "outputs": [],
   "source": [
    "Mgt = np.arange(89.27,93.97,0.1)"
   ]
  },
  {
   "cell_type": "code",
   "execution_count": 16,
   "id": "a82ccd2a",
   "metadata": {},
   "outputs": [],
   "source": [
    "nMg=Mgt.shape[0]"
   ]
  },
  {
   "cell_type": "code",
   "execution_count": 17,
   "id": "96ad2cd0",
   "metadata": {},
   "outputs": [
    {
     "data": {
      "text/plain": [
       "array([89.27, 89.37, 89.47, 89.57, 89.67, 89.77, 89.87, 89.97, 90.07,\n",
       "       90.17, 90.27, 90.37, 90.47, 90.57, 90.67, 90.77, 90.87, 90.97,\n",
       "       91.07, 91.17, 91.27, 91.37, 91.47, 91.57, 91.67, 91.77, 91.87,\n",
       "       91.97, 92.07, 92.17, 92.27, 92.37, 92.47, 92.57, 92.67, 92.77,\n",
       "       92.87, 92.97, 93.07, 93.17, 93.27, 93.37, 93.47, 93.57, 93.67,\n",
       "       93.77, 93.87, 93.97])"
      ]
     },
     "execution_count": 17,
     "metadata": {},
     "output_type": "execute_result"
    }
   ],
   "source": [
    "Mgt"
   ]
  },
  {
   "cell_type": "code",
   "execution_count": 18,
   "id": "31131b9a",
   "metadata": {},
   "outputs": [
    {
     "data": {
      "text/plain": [
       "array([-400000., -390000., -380000., -370000., -360000., -350000.,\n",
       "       -340000., -330000., -320000., -310000., -300000., -290000.,\n",
       "       -280000., -270000., -260000., -250000., -240000., -230000.,\n",
       "       -220000., -210000., -200000., -190000., -180000., -170000.,\n",
       "       -160000., -150000., -140000., -130000., -120000., -110000.,\n",
       "       -100000.,  -90000.,  -80000.,  -70000.,  -60000.,  -50000.,\n",
       "        -40000.,  -30000.,  -20000.,  -10000.])"
      ]
     },
     "execution_count": 18,
     "metadata": {},
     "output_type": "execute_result"
    }
   ],
   "source": [
    "Depths"
   ]
  },
  {
   "cell_type": "code",
   "execution_count": 19,
   "id": "b5e22088",
   "metadata": {},
   "outputs": [],
   "source": [
    "Result_T_F = list()\n",
    "Result_Rho_F = list()\n",
    "Result_eta_F = list()\n",
    "Result_V_F = list()\n",
    "Result_Mg_F = list()\n",
    "\n",
    "arr_T = np.linspace(Tmin, Tmax, nT)\n",
    "for j in range(nDepths):\n",
    "    Result_T = np.array([]).reshape(0,661*661)\n",
    "    Result_Rho = np.array([]).reshape(0,661*661)\n",
    "    Result_eta = np.array([]).reshape(0,661*661)\n",
    "    Result_V = np.array([]).reshape(0,661*661)\n",
    "    Result_Mg = np.array([]).reshape(0,661*661)\n",
    "    arr_select = tomo_NA_stack[:, 2]== Depths[j]\n",
    "    obs_v = tomo_NA_stack[:, 3][arr_select]/1e3\n",
    "    obs_den = tomo_NA_stack[:, 4][arr_select]\n",
    "\n",
    "    for i in range(nMg):\n",
    "        arr_TVRho = np.zeros([nT, 5])\n",
    "        arr_TVRho[:, 0] = arr_T\n",
    "        arr_TVRho[:, 1:] = Vs_calc3(pos,arr_T,-Depths[j]/1e3,Mgt[i])\n",
    "        syn_T = arr_TVRho[:, 0]\n",
    "        syn_v = arr_TVRho[:, 1]\n",
    "        syn_mg = arr_TVRho[:, 3] \n",
    "        syn_rho = arr_TVRho[:, 2]  \n",
    "        syn_eta = arr_TVRho[:, 4]\n",
    "        ipkwds = dict(left=-1, right=-1)\n",
    "        result_T = np.interp(obs_v, syn_v[::-1], syn_T[::-1], **ipkwds)\n",
    "        result_rho = np.interp(obs_v, syn_v[::-1], syn_rho[::-1], **ipkwds)\n",
    "        result_eta = np.interp(obs_v, syn_v[::-1], syn_eta[::-1], **ipkwds)\n",
    "        result_v = np.interp(obs_v, syn_v[::-1], syn_v[::-1], **ipkwds)\n",
    "        result_mg = result_rho - result_rho + Mgt[i]\n",
    "\n",
    "        Result_V = np.vstack((Result_V, result_v))\n",
    "        Result_T = np.vstack((Result_T, result_T))\n",
    "        Result_Rho = np.vstack((Result_Rho, result_rho))\n",
    "        Result_eta = np.vstack((Result_eta, result_eta))\n",
    "        Result_Mg = np.vstack((Result_Mg, result_mg))\n",
    "\n",
    "    distance=Result_Rho-obs_den[None,:]\n",
    "    best_match_index = np.argmin(np.abs(distance), axis=0)\n",
    "    T_layer=Result_T[best_match_index,np.arange(Result_T.shape[1])]\n",
    "    Rho_layer=Result_Rho[best_match_index,np.arange(Result_Rho.shape[1])]\n",
    "    eta_layer=Result_eta[best_match_index,np.arange(Result_eta.shape[1])]\n",
    "    mg_layer=Result_Mg[best_match_index,np.arange(Result_Mg.shape[1])]\n",
    "    V_layer=Result_V[best_match_index,np.arange(Result_V.shape[1])]\n",
    "\n",
    "    \n",
    "    Result_V_F.extend(V_layer.tolist())\n",
    "    Result_T_F.extend(T_layer.tolist())\n",
    "    Result_Rho_F.extend(Rho_layer.tolist())\n",
    "    Result_eta_F.extend(eta_layer.tolist())\n",
    "    Result_Mg_F.extend(mg_layer.tolist())\n",
    "\n",
    "Result_T_F = np.asarray(Result_T_F)\n",
    "Result_eta_F = np.asarray(Result_eta_F)\n",
    "Result_Rho_F = np.asarray(Result_Rho_F)\n",
    "Result_V_F = np.asarray(Result_V_F)\n",
    "Result_Mg_F = np.asarray(Result_Mg_F)\n"
   ]
  },
  {
   "cell_type": "code",
   "execution_count": 20,
   "id": "4c6af846",
   "metadata": {},
   "outputs": [],
   "source": [
    "\n",
    "Out = np.zeros([len(Result_Rho_F), 9])\n",
    "Out[:, 0:4] = tomo_NA_stack[:,0:4]\n",
    "Out[:, 4] = Result_T_F\n",
    "Out[:, 5] = Result_Rho_F\n",
    "Out[:, 6] = Result_eta_F\n",
    "Out[:, 7] = Result_V_F\n",
    "Out[:, 8] = Result_Mg_F\n",
    "Outs=Out"
   ]
  },
  {
   "cell_type": "code",
   "execution_count": 21,
   "id": "46d66c57",
   "metadata": {},
   "outputs": [],
   "source": [
    "np.savetxt('ANT20_DTE_priorden.txt', Outs, delimiter=\",\")"
   ]
  },
  {
   "cell_type": "code",
   "execution_count": 22,
   "id": "46d756b5",
   "metadata": {},
   "outputs": [],
   "source": [
    "# Inport data\n",
    "tomo_NA_stack = np.loadtxt('ANT20_grid_PostInversion.txt')"
   ]
  },
  {
   "cell_type": "code",
   "execution_count": 23,
   "id": "4f339965",
   "metadata": {},
   "outputs": [],
   "source": [
    "Tmin = 300-273.\n",
    "Tmax = 3000-273.\n",
    "dT = 1.      # temperature increment\n",
    "nT = int((Tmax - Tmin)/dT + 1)\n",
    "depth=tomo_NA_stack[:,2]\n",
    "Depths=np.unique(depth)\n",
    "nDepths = Depths.shape[0]\n",
    "\n",
    "Mgt = np.arange(89.27,93.97,0.1)\n",
    "nMg=Mgt.shape[0]"
   ]
  },
  {
   "cell_type": "code",
   "execution_count": 24,
   "id": "b7001b55",
   "metadata": {},
   "outputs": [],
   "source": [
    "Result_T_F = list()\n",
    "Result_Rho_F = list()\n",
    "Result_eta_F = list()\n",
    "Result_V_F = list()\n",
    "Result_Mg_F = list()\n",
    "\n",
    "arr_T = np.linspace(Tmin, Tmax, nT)\n",
    "for j in range(nDepths):\n",
    "    Result_T = np.array([]).reshape(0,661*661)\n",
    "    Result_Rho = np.array([]).reshape(0,661*661)\n",
    "    Result_eta = np.array([]).reshape(0,661*661)\n",
    "    Result_V = np.array([]).reshape(0,661*661)\n",
    "    Result_Mg = np.array([]).reshape(0,661*661)\n",
    "    arr_select = tomo_NA_stack[:, 2]== Depths[j]\n",
    "    obs_v = tomo_NA_stack[:, 3][arr_select]/1e3\n",
    "    obs_den = tomo_NA_stack[:, 4][arr_select]\n",
    "\n",
    "    for i in range(nMg):\n",
    "        arr_TVRho = np.zeros([nT, 5])\n",
    "        arr_TVRho[:, 0] = arr_T\n",
    "        arr_TVRho[:, 1:] = Vs_calc3(pos,arr_T,-Depths[j]/1e3,Mgt[i])\n",
    "        syn_T = arr_TVRho[:, 0]\n",
    "        syn_v = arr_TVRho[:, 1]\n",
    "        syn_mg = arr_TVRho[:, 3] \n",
    "        syn_rho = arr_TVRho[:, 2]  \n",
    "        syn_eta = arr_TVRho[:, 4]\n",
    "        ipkwds = dict(left=-1, right=-1)\n",
    "        result_T = np.interp(obs_v, syn_v[::-1], syn_T[::-1], **ipkwds)\n",
    "        result_rho = np.interp(obs_v, syn_v[::-1], syn_rho[::-1], **ipkwds)\n",
    "        result_eta = np.interp(obs_v, syn_v[::-1], syn_eta[::-1], **ipkwds)\n",
    "        result_v = np.interp(obs_v, syn_v[::-1], syn_v[::-1], **ipkwds)\n",
    "        result_mg = result_rho - result_rho + Mgt[i]\n",
    "\n",
    "        Result_V = np.vstack((Result_V, result_v))\n",
    "        Result_T = np.vstack((Result_T, result_T))\n",
    "        Result_Rho = np.vstack((Result_Rho, result_rho))\n",
    "        Result_eta = np.vstack((Result_eta, result_eta))\n",
    "        Result_Mg = np.vstack((Result_Mg, result_mg))\n",
    "\n",
    "    distance=Result_Rho-obs_den[None,:]\n",
    "    best_match_index = np.argmin(np.abs(distance), axis=0)\n",
    "    T_layer=Result_T[best_match_index,np.arange(Result_T.shape[1])]\n",
    "    Rho_layer=Result_Rho[best_match_index,np.arange(Result_Rho.shape[1])]\n",
    "    eta_layer=Result_eta[best_match_index,np.arange(Result_eta.shape[1])]\n",
    "    mg_layer=Result_Mg[best_match_index,np.arange(Result_Mg.shape[1])]\n",
    "    V_layer=Result_V[best_match_index,np.arange(Result_V.shape[1])]\n",
    "\n",
    "    \n",
    "    Result_V_F.extend(V_layer.tolist())\n",
    "    Result_T_F.extend(T_layer.tolist())\n",
    "    Result_Rho_F.extend(Rho_layer.tolist())\n",
    "    Result_eta_F.extend(eta_layer.tolist())\n",
    "    Result_Mg_F.extend(mg_layer.tolist())\n",
    "\n",
    "Result_T_F = np.asarray(Result_T_F)\n",
    "Result_eta_F = np.asarray(Result_eta_F)\n",
    "Result_Rho_F = np.asarray(Result_Rho_F)\n",
    "Result_V_F = np.asarray(Result_V_F)\n",
    "Result_Mg_F = np.asarray(Result_Mg_F)\n"
   ]
  },
  {
   "cell_type": "code",
   "execution_count": 25,
   "id": "7be1ca8a",
   "metadata": {},
   "outputs": [],
   "source": [
    "\n",
    "Out = np.zeros([len(Result_Rho_F), 9])\n",
    "Out[:, 0:4] = tomo_NA_stack[:,0:4]\n",
    "Out[:, 4] = Result_T_F\n",
    "Out[:, 5] = Result_Rho_F\n",
    "Out[:, 6] = Result_eta_F\n",
    "Out[:, 7] = Result_V_F\n",
    "Out[:, 8] = Result_Mg_F\n",
    "Outs=Out"
   ]
  },
  {
   "cell_type": "code",
   "execution_count": 26,
   "id": "1a643ebd",
   "metadata": {},
   "outputs": [],
   "source": [
    "np.savetxt('ANT20_DTE_postden.txt', Outs, delimiter=\",\")"
   ]
  },
  {
   "cell_type": "code",
   "execution_count": null,
   "id": "8543f54e",
   "metadata": {},
   "outputs": [],
   "source": []
  }
 ],
 "metadata": {
  "kernelspec": {
   "display_name": "Python 3 (ipykernel)",
   "language": "python",
   "name": "python3"
  },
  "language_info": {
   "codemirror_mode": {
    "name": "ipython",
    "version": 3
   },
   "file_extension": ".py",
   "mimetype": "text/x-python",
   "name": "python",
   "nbconvert_exporter": "python",
   "pygments_lexer": "ipython3",
   "version": "3.8.16"
  }
 },
 "nbformat": 4,
 "nbformat_minor": 5
}
